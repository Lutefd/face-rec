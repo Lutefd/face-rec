{
 "cells": [
  {
   "attachments": {},
   "cell_type": "markdown",
   "metadata": {},
   "source": [
    "## Basic Face tracker app using openCV"
   ]
  },
  {
   "attachments": {},
   "cell_type": "markdown",
   "metadata": {},
   "source": [
    "The first thing we need to do is import the required libraries. We'll need `numpy` for some mathematical operations, as well as `cv2` for our OpenCV bindings."
   ]
  },
  {
   "cell_type": "code",
   "execution_count": 2,
   "metadata": {},
   "outputs": [
    {
     "name": "stdout",
     "output_type": "stream",
     "text": [
      "Ran setup code\n"
     ]
    }
   ],
   "source": [
    "#Setup code\n",
    "import cv2\n",
    "print('Ran setup code')"
   ]
  },
  {
   "attachments": {},
   "cell_type": "markdown",
   "metadata": {},
   "source": [
    "Then you need to import the cascade for face detection. You can find it in the opencv/data/haarcascades directory. The file is called haarcascade_frontalface_default.xml. Copy it to your working directory. The opencv library also has other cascades, you can try them as well. I recommend using their variable `cv2.data.haarcascades` to access the cascades. It will make your code more portable."
   ]
  },
  {
   "cell_type": "code",
   "execution_count": 3,
   "metadata": {},
   "outputs": [],
   "source": [
    "face_cascade = cv2.CascadeClassifier(cv2.data.haarcascades + 'haarcascade_frontalface_default.xml')"
   ]
  },
  {
   "attachments": {},
   "cell_type": "markdown",
   "metadata": {},
   "source": [
    "Next up, we will use the lib to open the camera, read the frame and convert the image to grayscale. We do this because the `detectMultiScale` function expects a grayscale image. We will also use the `detectMultiScale` function to search the frame for any faces. Then we will loop through all the faces it finds and draw rectangles around them using the `cv2.rectangle` function. Finally, we will show the frame on the screen using the `imshow` function. If faces are found, they will be highlighted in the frame, and we will also track their movement relative to the center of the frame."
   ]
  },
  {
   "cell_type": "code",
   "execution_count": null,
   "metadata": {},
   "outputs": [],
   "source": [
    "cap = cv2.VideoCapture(0)\n",
    "\n",
    "while True:\n",
    "    ret, frame = cap.read()\n",
    "\n",
    "    gray = cv2.cvtColor(frame, cv2.COLOR_BGR2GRAY)\n",
    "\n",
    "    faces = face_cascade.detectMultiScale(gray, scaleFactor=1.1, minNeighbors=4, minSize=(15, 15), flags=cv2.CASCADE_SCALE_IMAGE)\n",
    "\n",
    "    for (x, y, w, h) in faces:\n",
    "        cv2.rectangle(frame, (x, y), (x+w, y+h), (0, 255, 0), 2)\n",
    "\n",
    "    if len(faces) > 0:\n",
    "        cv2.putText(frame, \"Face detected\", (10, 50), cv2.FONT_HERSHEY_SIMPLEX, 0.5, (0, 255, 0), 2)\n",
    "    if len(faces) == 0:\n",
    "        cv2.putText(frame, \"No face detected\", (10, 50), cv2.FONT_HERSHEY_SIMPLEX, 0.5, (0, 0, 255), 2)\n",
    "\n",
    "    if len(faces) > 0:\n",
    "        direction = \"\"\n",
    "        if x > 300:\n",
    "            direction = \"Left\"\n",
    "        elif x < 300:\n",
    "            direction = \"Right\"\n",
    "        else:\n",
    "            direction = \"Center\"\n",
    "        cv2.putText(frame, \"Direction: {}\".format(direction), (10, 20), cv2.FONT_HERSHEY_SIMPLEX, 0.5, (0, 255, 0), 2)\n",
    "\n",
    "    cv2.imshow('Face Detection', frame)\n",
    "\n",
    "    if cv2.waitKey(1) & 0xFF == ord('q'):\n",
    "        break\n",
    "\n",
    "cap.release()\n",
    "cv2.destroyAllWindows()\n"
   ]
  }
 ],
 "metadata": {
  "kernelspec": {
   "display_name": "Python 3",
   "language": "python",
   "name": "python3"
  },
  "language_info": {
   "codemirror_mode": {
    "name": "ipython",
    "version": 3
   },
   "file_extension": ".py",
   "mimetype": "text/x-python",
   "name": "python",
   "nbconvert_exporter": "python",
   "pygments_lexer": "ipython3",
   "version": "3.10.6"
  },
  "orig_nbformat": 4
 },
 "nbformat": 4,
 "nbformat_minor": 2
}
